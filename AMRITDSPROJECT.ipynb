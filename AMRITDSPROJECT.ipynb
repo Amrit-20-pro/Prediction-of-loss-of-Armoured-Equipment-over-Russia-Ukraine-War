{
 "cells": [
  {
   "cell_type": "code",
   "execution_count": 1,
   "id": "b06af3e0",
   "metadata": {},
   "outputs": [
    {
     "data": {
      "text/html": [
       "<div>\n",
       "<style scoped>\n",
       "    .dataframe tbody tr th:only-of-type {\n",
       "        vertical-align: middle;\n",
       "    }\n",
       "\n",
       "    .dataframe tbody tr th {\n",
       "        vertical-align: top;\n",
       "    }\n",
       "\n",
       "    .dataframe thead th {\n",
       "        text-align: right;\n",
       "    }\n",
       "</style>\n",
       "<table border=\"1\" class=\"dataframe\">\n",
       "  <thead>\n",
       "    <tr style=\"text-align: right;\">\n",
       "      <th></th>\n",
       "      <th>aircraft</th>\n",
       "      <th>helicopter</th>\n",
       "      <th>tank</th>\n",
       "      <th>APC</th>\n",
       "      <th>field artillery</th>\n",
       "      <th>MRL</th>\n",
       "      <th>military auto</th>\n",
       "      <th>drone</th>\n",
       "      <th>naval ship</th>\n",
       "      <th>anti-aircraft warfare</th>\n",
       "    </tr>\n",
       "  </thead>\n",
       "  <tbody>\n",
       "    <tr>\n",
       "      <th>0</th>\n",
       "      <td>27</td>\n",
       "      <td>26</td>\n",
       "      <td>146</td>\n",
       "      <td>706</td>\n",
       "      <td>49</td>\n",
       "      <td>4</td>\n",
       "      <td>30</td>\n",
       "      <td>2</td>\n",
       "      <td>2</td>\n",
       "      <td>0</td>\n",
       "    </tr>\n",
       "    <tr>\n",
       "      <th>1</th>\n",
       "      <td>29</td>\n",
       "      <td>29</td>\n",
       "      <td>150</td>\n",
       "      <td>816</td>\n",
       "      <td>74</td>\n",
       "      <td>21</td>\n",
       "      <td>291</td>\n",
       "      <td>3</td>\n",
       "      <td>2</td>\n",
       "      <td>5</td>\n",
       "    </tr>\n",
       "    <tr>\n",
       "      <th>2</th>\n",
       "      <td>29</td>\n",
       "      <td>29</td>\n",
       "      <td>198</td>\n",
       "      <td>846</td>\n",
       "      <td>77</td>\n",
       "      <td>24</td>\n",
       "      <td>305</td>\n",
       "      <td>3</td>\n",
       "      <td>2</td>\n",
       "      <td>7</td>\n",
       "    </tr>\n",
       "    <tr>\n",
       "      <th>3</th>\n",
       "      <td>30</td>\n",
       "      <td>31</td>\n",
       "      <td>211</td>\n",
       "      <td>862</td>\n",
       "      <td>85</td>\n",
       "      <td>40</td>\n",
       "      <td>355</td>\n",
       "      <td>3</td>\n",
       "      <td>2</td>\n",
       "      <td>9</td>\n",
       "    </tr>\n",
       "    <tr>\n",
       "      <th>4</th>\n",
       "      <td>30</td>\n",
       "      <td>31</td>\n",
       "      <td>217</td>\n",
       "      <td>900</td>\n",
       "      <td>90</td>\n",
       "      <td>42</td>\n",
       "      <td>374</td>\n",
       "      <td>3</td>\n",
       "      <td>2</td>\n",
       "      <td>11</td>\n",
       "    </tr>\n",
       "  </tbody>\n",
       "</table>\n",
       "</div>"
      ],
      "text/plain": [
       "   aircraft  helicopter  tank  APC  field artillery  MRL  military auto  \\\n",
       "0        27          26   146  706               49    4             30   \n",
       "1        29          29   150  816               74   21            291   \n",
       "2        29          29   198  846               77   24            305   \n",
       "3        30          31   211  862               85   40            355   \n",
       "4        30          31   217  900               90   42            374   \n",
       "\n",
       "   drone  naval ship  anti-aircraft warfare  \n",
       "0      2           2                      0  \n",
       "1      3           2                      5  \n",
       "2      3           2                      7  \n",
       "3      3           2                      9  \n",
       "4      3           2                     11  "
      ]
     },
     "execution_count": 1,
     "metadata": {},
     "output_type": "execute_result"
    }
   ],
   "source": [
    "import pandas as pd\n",
    "import numpy as np\n",
    "from matplotlib import pyplot as plt\n",
    "data=pd.read_csv('russia_losses_equipment.csv')\n",
    "data.drop(['date','BUK','fuel tank','special equipment','day'], inplace=True, axis=1)\n",
    "data.head()"
   ]
  },
  {
   "cell_type": "code",
   "execution_count": 2,
   "id": "5717d009",
   "metadata": {},
   "outputs": [
    {
     "data": {
      "text/plain": [
       "(20, 10)"
      ]
     },
     "execution_count": 2,
     "metadata": {},
     "output_type": "execute_result"
    }
   ],
   "source": [
    "data.shape"
   ]
  },
  {
   "cell_type": "code",
   "execution_count": 3,
   "id": "34d2270c",
   "metadata": {},
   "outputs": [
    {
     "data": {
      "text/plain": [
       "0     146\n",
       "1     150\n",
       "2     198\n",
       "3     211\n",
       "4     217\n",
       "5     251\n",
       "6     269\n",
       "7     285\n",
       "8     290\n",
       "9     303\n",
       "10    317\n",
       "11    335\n",
       "12    353\n",
       "13    362\n",
       "14    374\n",
       "15    389\n",
       "16    404\n",
       "17    430\n",
       "18    444\n",
       "19    450\n",
       "Name: tank, dtype: int64"
      ]
     },
     "execution_count": 3,
     "metadata": {},
     "output_type": "execute_result"
    }
   ],
   "source": [
    "x=data['tank']\n",
    "x"
   ]
  },
  {
   "cell_type": "code",
   "execution_count": 4,
   "id": "e153661b",
   "metadata": {},
   "outputs": [
    {
     "name": "stdout",
     "output_type": "stream",
     "text": [
      "aircraft                  1063\n",
      "helicopter                1346\n",
      "tank                      6178\n",
      "APC                      21591\n",
      "field artillery           2470\n",
      "MRL                       1023\n",
      "military auto            10113\n",
      "drone                      124\n",
      "naval ship                  52\n",
      "anti-aircraft warfare      494\n",
      "dtype: int64\n"
     ]
    }
   ],
   "source": [
    "dt=data.sum(axis=0)\n",
    "\n",
    "print(dt)"
   ]
  },
  {
   "cell_type": "code",
   "execution_count": 5,
   "id": "d3dec454",
   "metadata": {},
   "outputs": [
    {
     "data": {
      "text/html": [
       "<div>\n",
       "<style scoped>\n",
       "    .dataframe tbody tr th:only-of-type {\n",
       "        vertical-align: middle;\n",
       "    }\n",
       "\n",
       "    .dataframe tbody tr th {\n",
       "        vertical-align: top;\n",
       "    }\n",
       "\n",
       "    .dataframe thead th {\n",
       "        text-align: right;\n",
       "    }\n",
       "</style>\n",
       "<table border=\"1\" class=\"dataframe\">\n",
       "  <thead>\n",
       "    <tr style=\"text-align: right;\">\n",
       "      <th></th>\n",
       "      <th>Equipments</th>\n",
       "      <th>Destroyed</th>\n",
       "    </tr>\n",
       "  </thead>\n",
       "  <tbody>\n",
       "    <tr>\n",
       "      <th>0</th>\n",
       "      <td>aircraft</td>\n",
       "      <td>1063</td>\n",
       "    </tr>\n",
       "    <tr>\n",
       "      <th>1</th>\n",
       "      <td>helicopter</td>\n",
       "      <td>1346</td>\n",
       "    </tr>\n",
       "    <tr>\n",
       "      <th>2</th>\n",
       "      <td>tank</td>\n",
       "      <td>6178</td>\n",
       "    </tr>\n",
       "    <tr>\n",
       "      <th>3</th>\n",
       "      <td>APC</td>\n",
       "      <td>21591</td>\n",
       "    </tr>\n",
       "    <tr>\n",
       "      <th>4</th>\n",
       "      <td>field artillery</td>\n",
       "      <td>2470</td>\n",
       "    </tr>\n",
       "    <tr>\n",
       "      <th>5</th>\n",
       "      <td>MRL</td>\n",
       "      <td>1023</td>\n",
       "    </tr>\n",
       "    <tr>\n",
       "      <th>6</th>\n",
       "      <td>military auto</td>\n",
       "      <td>10113</td>\n",
       "    </tr>\n",
       "    <tr>\n",
       "      <th>7</th>\n",
       "      <td>drone</td>\n",
       "      <td>124</td>\n",
       "    </tr>\n",
       "    <tr>\n",
       "      <th>8</th>\n",
       "      <td>naval ship</td>\n",
       "      <td>52</td>\n",
       "    </tr>\n",
       "    <tr>\n",
       "      <th>9</th>\n",
       "      <td>anti-aircraft warfare</td>\n",
       "      <td>494</td>\n",
       "    </tr>\n",
       "  </tbody>\n",
       "</table>\n",
       "</div>"
      ],
      "text/plain": [
       "              Equipments  Destroyed\n",
       "0               aircraft       1063\n",
       "1             helicopter       1346\n",
       "2                   tank       6178\n",
       "3                    APC      21591\n",
       "4        field artillery       2470\n",
       "5                    MRL       1023\n",
       "6          military auto      10113\n",
       "7                  drone        124\n",
       "8             naval ship         52\n",
       "9  anti-aircraft warfare        494"
      ]
     },
     "execution_count": 5,
     "metadata": {},
     "output_type": "execute_result"
    }
   ],
   "source": [
    "my_df  = pd.DataFrame(columns = ['Equipments','Destroyed'])\n",
    "my_df['Equipments']=list(data.keys())\n",
    "my_df['Destroyed']=list(data.sum(axis=0))\n",
    "my_df"
   ]
  },
  {
   "cell_type": "code",
   "execution_count": 6,
   "id": "bb40cfef",
   "metadata": {},
   "outputs": [
    {
     "data": {
      "text/html": [
       "<div>\n",
       "<style scoped>\n",
       "    .dataframe tbody tr th:only-of-type {\n",
       "        vertical-align: middle;\n",
       "    }\n",
       "\n",
       "    .dataframe tbody tr th {\n",
       "        vertical-align: top;\n",
       "    }\n",
       "\n",
       "    .dataframe thead th {\n",
       "        text-align: right;\n",
       "    }\n",
       "</style>\n",
       "<table border=\"1\" class=\"dataframe\">\n",
       "  <thead>\n",
       "    <tr style=\"text-align: right;\">\n",
       "      <th></th>\n",
       "      <th>aircraft</th>\n",
       "      <th>helicopter</th>\n",
       "      <th>tank</th>\n",
       "      <th>APC</th>\n",
       "      <th>field artillery</th>\n",
       "      <th>MRL</th>\n",
       "      <th>military auto</th>\n",
       "      <th>drone</th>\n",
       "      <th>naval ship</th>\n",
       "      <th>anti-aircraft warfare</th>\n",
       "    </tr>\n",
       "  </thead>\n",
       "  <tbody>\n",
       "    <tr>\n",
       "      <th>count</th>\n",
       "      <td>20.000000</td>\n",
       "      <td>20.000000</td>\n",
       "      <td>20.000000</td>\n",
       "      <td>20.000000</td>\n",
       "      <td>20.000000</td>\n",
       "      <td>20.000000</td>\n",
       "      <td>20.000000</td>\n",
       "      <td>20.000000</td>\n",
       "      <td>20.000000</td>\n",
       "      <td>20.000000</td>\n",
       "    </tr>\n",
       "    <tr>\n",
       "      <th>mean</th>\n",
       "      <td>53.150000</td>\n",
       "      <td>67.300000</td>\n",
       "      <td>308.900000</td>\n",
       "      <td>1079.550000</td>\n",
       "      <td>123.500000</td>\n",
       "      <td>51.150000</td>\n",
       "      <td>505.650000</td>\n",
       "      <td>6.200000</td>\n",
       "      <td>2.600000</td>\n",
       "      <td>24.700000</td>\n",
       "    </tr>\n",
       "    <tr>\n",
       "      <th>std</th>\n",
       "      <td>21.957555</td>\n",
       "      <td>30.161146</td>\n",
       "      <td>93.487348</td>\n",
       "      <td>212.924863</td>\n",
       "      <td>41.429077</td>\n",
       "      <td>17.756467</td>\n",
       "      <td>204.520305</td>\n",
       "      <td>3.071088</td>\n",
       "      <td>0.502625</td>\n",
       "      <td>13.155347</td>\n",
       "    </tr>\n",
       "    <tr>\n",
       "      <th>min</th>\n",
       "      <td>27.000000</td>\n",
       "      <td>26.000000</td>\n",
       "      <td>146.000000</td>\n",
       "      <td>706.000000</td>\n",
       "      <td>49.000000</td>\n",
       "      <td>4.000000</td>\n",
       "      <td>30.000000</td>\n",
       "      <td>2.000000</td>\n",
       "      <td>2.000000</td>\n",
       "      <td>0.000000</td>\n",
       "    </tr>\n",
       "    <tr>\n",
       "      <th>25%</th>\n",
       "      <td>32.250000</td>\n",
       "      <td>35.500000</td>\n",
       "      <td>242.500000</td>\n",
       "      <td>929.250000</td>\n",
       "      <td>101.250000</td>\n",
       "      <td>48.000000</td>\n",
       "      <td>396.500000</td>\n",
       "      <td>3.000000</td>\n",
       "      <td>2.000000</td>\n",
       "      <td>16.250000</td>\n",
       "    </tr>\n",
       "    <tr>\n",
       "      <th>50%</th>\n",
       "      <td>48.500000</td>\n",
       "      <td>80.500000</td>\n",
       "      <td>310.000000</td>\n",
       "      <td>1053.000000</td>\n",
       "      <td>120.000000</td>\n",
       "      <td>56.000000</td>\n",
       "      <td>478.000000</td>\n",
       "      <td>7.000000</td>\n",
       "      <td>3.000000</td>\n",
       "      <td>27.500000</td>\n",
       "    </tr>\n",
       "    <tr>\n",
       "      <th>75%</th>\n",
       "      <td>74.750000</td>\n",
       "      <td>87.000000</td>\n",
       "      <td>377.750000</td>\n",
       "      <td>1231.750000</td>\n",
       "      <td>142.500000</td>\n",
       "      <td>62.500000</td>\n",
       "      <td>604.250000</td>\n",
       "      <td>7.250000</td>\n",
       "      <td>3.000000</td>\n",
       "      <td>34.000000</td>\n",
       "    </tr>\n",
       "    <tr>\n",
       "      <th>max</th>\n",
       "      <td>93.000000</td>\n",
       "      <td>112.000000</td>\n",
       "      <td>450.000000</td>\n",
       "      <td>1448.000000</td>\n",
       "      <td>205.000000</td>\n",
       "      <td>72.000000</td>\n",
       "      <td>879.000000</td>\n",
       "      <td>12.000000</td>\n",
       "      <td>3.000000</td>\n",
       "      <td>43.000000</td>\n",
       "    </tr>\n",
       "  </tbody>\n",
       "</table>\n",
       "</div>"
      ],
      "text/plain": [
       "        aircraft  helicopter        tank          APC  field artillery  \\\n",
       "count  20.000000   20.000000   20.000000    20.000000        20.000000   \n",
       "mean   53.150000   67.300000  308.900000  1079.550000       123.500000   \n",
       "std    21.957555   30.161146   93.487348   212.924863        41.429077   \n",
       "min    27.000000   26.000000  146.000000   706.000000        49.000000   \n",
       "25%    32.250000   35.500000  242.500000   929.250000       101.250000   \n",
       "50%    48.500000   80.500000  310.000000  1053.000000       120.000000   \n",
       "75%    74.750000   87.000000  377.750000  1231.750000       142.500000   \n",
       "max    93.000000  112.000000  450.000000  1448.000000       205.000000   \n",
       "\n",
       "             MRL  military auto      drone  naval ship  anti-aircraft warfare  \n",
       "count  20.000000      20.000000  20.000000   20.000000              20.000000  \n",
       "mean   51.150000     505.650000   6.200000    2.600000              24.700000  \n",
       "std    17.756467     204.520305   3.071088    0.502625              13.155347  \n",
       "min     4.000000      30.000000   2.000000    2.000000               0.000000  \n",
       "25%    48.000000     396.500000   3.000000    2.000000              16.250000  \n",
       "50%    56.000000     478.000000   7.000000    3.000000              27.500000  \n",
       "75%    62.500000     604.250000   7.250000    3.000000              34.000000  \n",
       "max    72.000000     879.000000  12.000000    3.000000              43.000000  "
      ]
     },
     "execution_count": 6,
     "metadata": {},
     "output_type": "execute_result"
    }
   ],
   "source": [
    "new=data.describe()\n",
    "new"
   ]
  },
  {
   "cell_type": "code",
   "execution_count": 7,
   "id": "efdd4749",
   "metadata": {},
   "outputs": [
    {
     "data": {
      "image/png": "[encoded data removed]",
      "text/plain": [
       "<Figure size 432x288 with 1 Axes>"
      ]
     },
     "metadata": {
      "needs_background": "light"
     },
     "output_type": "display_data"
    }
   ],
   "source": [
    "plt.bar(my_df['Equipments'],my_df['Destroyed'])\n",
    "plt.show()"
   ]
  },
  {
   "cell_type": "code",
   "execution_count": 8,
   "id": "08cdfc13",
   "metadata": {},
   "outputs": [
    {
     "name": "stdout",
     "output_type": "stream",
     "text": [
      "    aircraft  helicopter  tank   APC  field artillery  MRL  military auto  \\\n",
      "0         27          26   146   706               49    4             30   \n",
      "1         29          29   150   816               74   21            291   \n",
      "2         29          29   198   846               77   24            305   \n",
      "3         30          31   211   862               85   40            355   \n",
      "4         30          31   217   900               90   42            374   \n",
      "5         33          37   251   939              105   50            404   \n",
      "6         39          40   269   945              105   50            409   \n",
      "7         44          48   285   985              109   50            447   \n",
      "8         46          68   290   999              117   50            454   \n",
      "9         48          80   303  1036              120   56            474   \n",
      "10        49          81   317  1070              120   56            482   \n",
      "11        49          81   335  1105              123   56            526   \n",
      "12        57          83   353  1165              125   58            558   \n",
      "13        58          83   362  1205              135   62            585   \n",
      "14        74          86   374  1226              140   62            600   \n",
      "15        77          90   389  1249              150   64            617   \n",
      "16        81          95   404  1279              150   64            640   \n",
      "17        84         108   430  1375              190   70            819   \n",
      "18        86         108   444  1435              201   72            864   \n",
      "19        93         112   450  1448              205   72            879   \n",
      "\n",
      "    drone  naval ship  anti-aircraft warfare  day  \n",
      "0       2           2                      0    1  \n",
      "1       3           2                      5    2  \n",
      "2       3           2                      7    3  \n",
      "3       3           2                      9    4  \n",
      "4       3           2                     11    5  \n",
      "5       3           2                     18    6  \n",
      "6       3           2                     19    7  \n",
      "7       4           2                     21    8  \n",
      "8       7           3                     23    9  \n",
      "9       7           3                     27   10  \n",
      "10      7           3                     28   11  \n",
      "11      7           3                     29   12  \n",
      "12      7           3                     31   13  \n",
      "13      7           3                     33   14  \n",
      "14      7           3                     34   15  \n",
      "15      8           3                     34   16  \n",
      "16      9           3                     36   17  \n",
      "17     11           3                     43   18  \n",
      "18     11           3                     43   19  \n",
      "19     12           3                     43   20  \n"
     ]
    }
   ],
   "source": [
    "data['day']=[1,2,3,4,5,6,7,8,9,10,11,12,13,14,15,16,17,18,19,20]\n",
    "print(data)"
   ]
  },
  {
   "cell_type": "code",
   "execution_count": 9,
   "id": "2e09d44e",
   "metadata": {},
   "outputs": [
    {
     "name": "stdout",
     "output_type": "stream",
     "text": [
      "    Days  Daily_loss\n",
      "0      1         993\n",
      "1      2        1422\n",
      "2      3        1523\n",
      "3      4        1632\n",
      "4      5        1705\n",
      "5      6        1848\n",
      "6      7        1888\n",
      "7      8        2003\n",
      "8      9        2066\n",
      "9     10        2164\n",
      "10    11        2224\n",
      "11    12        2326\n",
      "12    13        2453\n",
      "13    14        2547\n",
      "14    15        2621\n",
      "15    16        2697\n",
      "16    17        2778\n",
      "17    18        3151\n",
      "18    19        3286\n",
      "19    20        3337\n"
     ]
    }
   ],
   "source": [
    "newdata=pd.DataFrame(columns=['Days','Daily_loss'])\n",
    "newdata['Days']=data['day']\n",
    "newdata['Daily_loss']=list(data.sum(axis=1))\n",
    "print(newdata)"
   ]
  },
  {
   "cell_type": "code",
   "execution_count": null,
   "id": "597d0392",
   "metadata": {},
   "outputs": [],
   "source": []
  },
  {
   "cell_type": "code",
   "execution_count": 13,
   "id": "25c92094",
   "metadata": {},
   "outputs": [],
   "source": [
    "from sklearn.linear_model import LinearRegression\n",
    "from sklearn.model_selection import train_test_split\n",
    "x=newdata[['Days']]\n",
    "y=newdata[['Daily_loss']]\n",
    "x_train,x_test,y_train,y_test=train_test_split(x,y,test_size=0.5)"
   ]
  },
  {
   "cell_type": "code",
   "execution_count": 11,
   "id": "7eb7e65a",
   "metadata": {},
   "outputs": [
    {
     "data": {
      "text/html": [
       "<div>\n",
       "<style scoped>\n",
       "    .dataframe tbody tr th:only-of-type {\n",
       "        vertical-align: middle;\n",
       "    }\n",
       "\n",
       "    .dataframe tbody tr th {\n",
       "        vertical-align: top;\n",
       "    }\n",
       "\n",
       "    .dataframe thead th {\n",
       "        text-align: right;\n",
       "    }\n",
       "</style>\n",
       "<table border=\"1\" class=\"dataframe\">\n",
       "  <thead>\n",
       "    <tr style=\"text-align: right;\">\n",
       "      <th></th>\n",
       "      <th>Days</th>\n",
       "    </tr>\n",
       "  </thead>\n",
       "  <tbody>\n",
       "    <tr>\n",
       "      <th>19</th>\n",
       "      <td>20</td>\n",
       "    </tr>\n",
       "    <tr>\n",
       "      <th>7</th>\n",
       "      <td>8</td>\n",
       "    </tr>\n",
       "    <tr>\n",
       "      <th>17</th>\n",
       "      <td>18</td>\n",
       "    </tr>\n",
       "    <tr>\n",
       "      <th>9</th>\n",
       "      <td>10</td>\n",
       "    </tr>\n",
       "    <tr>\n",
       "      <th>6</th>\n",
       "      <td>7</td>\n",
       "    </tr>\n",
       "  </tbody>\n",
       "</table>\n",
       "</div>"
      ],
      "text/plain": [
       "    Days\n",
       "19    20\n",
       "7      8\n",
       "17    18\n",
       "9     10\n",
       "6      7"
      ]
     },
     "execution_count": 11,
     "metadata": {},
     "output_type": "execute_result"
    }
   ],
   "source": [
    "x_train.head()"
   ]
  },
  {
   "cell_type": "code",
   "execution_count": 12,
   "id": "87fb651d",
   "metadata": {},
   "outputs": [],
   "source": [
    "lr=LinearRegression()"
   ]
  },
  {
   "cell_type": "code",
   "execution_count": 14,
   "id": "696916c4",
   "metadata": {},
   "outputs": [
    {
     "data": {
      "text/plain": [
       "LinearRegression()"
      ]
     },
     "execution_count": 14,
     "metadata": {},
     "output_type": "execute_result"
    }
   ],
   "source": [
    "lr.fit(x_train,y_train)"
   ]
  },
  {
   "cell_type": "code",
   "execution_count": 18,
   "id": "9394f698",
   "metadata": {},
   "outputs": [],
   "source": [
    "model_pred=lr.predict(x_test)"
   ]
  },
  {
   "cell_type": "code",
   "execution_count": 19,
   "id": "cdef4ab0",
   "metadata": {},
   "outputs": [
    {
     "data": {
      "text/plain": [
       "array([[2696.7088274 ],\n",
       "       [2196.35638999],\n",
       "       [3096.99077734],\n",
       "       [2396.49736495],\n",
       "       [2896.84980237],\n",
       "       [1595.93346509],\n",
       "       [2596.63833992],\n",
       "       [2996.92028986],\n",
       "       [1295.72200264],\n",
       "       [1996.21541502]])"
      ]
     },
     "execution_count": 19,
     "metadata": {},
     "output_type": "execute_result"
    }
   ],
   "source": [
    "model_pred"
   ]
  },
  {
   "cell_type": "code",
   "execution_count": 17,
   "id": "06fdefc7",
   "metadata": {},
   "outputs": [
    {
     "data": {
      "text/html": [
       "<div>\n",
       "<style scoped>\n",
       "    .dataframe tbody tr th:only-of-type {\n",
       "        vertical-align: middle;\n",
       "    }\n",
       "\n",
       "    .dataframe tbody tr th {\n",
       "        vertical-align: top;\n",
       "    }\n",
       "\n",
       "    .dataframe thead th {\n",
       "        text-align: right;\n",
       "    }\n",
       "</style>\n",
       "<table border=\"1\" class=\"dataframe\">\n",
       "  <thead>\n",
       "    <tr style=\"text-align: right;\">\n",
       "      <th></th>\n",
       "      <th>Daily_loss</th>\n",
       "    </tr>\n",
       "  </thead>\n",
       "  <tbody>\n",
       "    <tr>\n",
       "      <th>14</th>\n",
       "      <td>2621</td>\n",
       "    </tr>\n",
       "    <tr>\n",
       "      <th>9</th>\n",
       "      <td>2164</td>\n",
       "    </tr>\n",
       "    <tr>\n",
       "      <th>18</th>\n",
       "      <td>3286</td>\n",
       "    </tr>\n",
       "    <tr>\n",
       "      <th>11</th>\n",
       "      <td>2326</td>\n",
       "    </tr>\n",
       "    <tr>\n",
       "      <th>16</th>\n",
       "      <td>2778</td>\n",
       "    </tr>\n",
       "  </tbody>\n",
       "</table>\n",
       "</div>"
      ],
      "text/plain": [
       "    Daily_loss\n",
       "14        2621\n",
       "9         2164\n",
       "18        3286\n",
       "11        2326\n",
       "16        2778"
      ]
     },
     "execution_count": 17,
     "metadata": {},
     "output_type": "execute_result"
    }
   ],
   "source": [
    "y_test.head()"
   ]
  }
 ],
 "metadata": {
  "kernelspec": {
   "display_name": "Python 3 (ipykernel)",
   "language": "python",
   "name": "python3"
  },
  "language_info": {
   "codemirror_mode": {
    "name": "ipython",
    "version": 3
   },
   "file_extension": ".py",
   "mimetype": "text/x-python",
   "name": "python",
   "nbconvert_exporter": "python",
   "pygments_lexer": "ipython3",
   "version": "3.9.7"
  }
 },
 "nbformat": 4,
 "nbformat_minor": 5
}
